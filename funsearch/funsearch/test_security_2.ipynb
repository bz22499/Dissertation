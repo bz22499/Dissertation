{
 "cells": [
  {
   "cell_type": "code",
   "execution_count": 71,
   "metadata": {},
   "outputs": [],
   "source": [
    "import ast, inspect, itertools, math, numpy as np\n",
    "\n",
    "ALLOWED_FUNCTIONS = {'itertools', 'numpy', 'np', 'math', 'functools', 'collections', 'random'}\n",
    "DISALLOWED = { '__import__(', 'breakpoint(', 'compile(', 'open(', 'dir(', 'eval(', 'exec(', 'globals(',\n",
    "              'input(', 'repr(', 'savetxt(', 'loadtxt(', 'genfromtxt(', 'fromfile(', 'tofile(', 'frombuffer(',\n",
    "              'save(', 'savez(', 'savez_compressed(', 'load(', 'savetxtas', 'loadtxtas', 'genfromtxtas', \n",
    "              'fromfileas', 'tofileas', 'frombufferas', 'saveas', 'savezas', 'savez_compressedas',\n",
    "              'loadas', '=__import__\\n', '=breakpoint\\n', '=compile\\n', '=open\\n', '=dir\\n', '=eval\\n', '=exec\\n', '=globals\\n',\n",
    "              '=input\\n', '=repr\\n', '=savetxt\\n', '=loadtxt\\n', '=genfromtxt\\n', '=fromfile\\n', '=tofile\\n', '=frombuffer\\n',\n",
    "              '=save\\n', '=savez\\n', '=savez_compressed\\n', '=load\\n', '=__import__,', '=breakpoint,', '=compile,', '=open,', '=dir,',\n",
    "              '=eval,', '=exec,', '=globals,', '=input,', '=repr,', '=savetxt,', '=loadtxt,', '=genfromtxt,', '=fromfile,',\n",
    "              '=tofile,', '=frombuffer,', '=save,', '=savez,', '=savez_compressed,', '=load,'}"
   ]
  },
  {
   "cell_type": "code",
   "execution_count": 72,
   "metadata": {},
   "outputs": [
    {
     "data": {
      "text/plain": [
       "True"
      ]
     },
     "execution_count": 72,
     "metadata": {},
     "output_type": "execute_result"
    }
   ],
   "source": [
    "def my_function():\n",
    "    import numpy as np\n",
    "    from numpy import sqrt, exp\n",
    "    x = list([1,2,3,4])\n",
    "\n",
    "    return sqrt(2)\n",
    "\n",
    "is_function_safe(my_function)"
   ]
  },
  {
   "cell_type": "code",
   "execution_count": 59,
   "metadata": {},
   "outputs": [],
   "source": [
    "def is_function_safe(func):\n",
    "    source = inspect.getsource(func)\n",
    "    parsed = ast.parse(source)\n",
    "\n",
    "    imported_packages = [\n",
    "        node.module for node in ast.walk(parsed)\n",
    "        if isinstance(node, ast.ImportFrom)\n",
    "    ]\n",
    "\n",
    "    if any(pkg not in ALLOWED_FUNCTIONS for pkg in imported_packages):\n",
    "        print(\"Import form\")\n",
    "        print([pkg for pkg in imported_packages if pkg not in ALLOWED_FUNCTIONS])\n",
    "        return False\n",
    "    \n",
    "    imported_packages = [\n",
    "        node.names for node in ast.walk(parsed) if isinstance(node, ast.Import)\n",
    "    ]\n",
    "    imported_packages = [name.name for node in imported_packages for name in node]\n",
    "\n",
    "    if any(pkg not in ALLOWED_FUNCTIONS for pkg in imported_packages):\n",
    "        print(\"Import\")\n",
    "        print([pkg for pkg in imported_packages if pkg not in ALLOWED_FUNCTIONS])\n",
    "        return False\n",
    "        \n",
    "    if any (banned in source.replace(\" \", \"\") for banned in DISALLOWED):\n",
    "        print(\"Function\")\n",
    "        print([banned for banned in DISALLOWED if banned in source.replace(\" \", \"\")])\n",
    "        return False\n",
    "    \n",
    "    return True"
   ]
  },
  {
   "cell_type": "code",
   "execution_count": 60,
   "metadata": {},
   "outputs": [
    {
     "data": {
      "text/plain": [
       "True"
      ]
     },
     "execution_count": 60,
     "metadata": {},
     "output_type": "execute_result"
    }
   ],
   "source": [
    "is_function_safe(my_function)"
   ]
  },
  {
   "cell_type": "code",
   "execution_count": 61,
   "metadata": {},
   "outputs": [],
   "source": [
    "def priority1(v: tuple[int, ...], n: int) -> float:\n",
    "  \"\"\"Returns the priority, as a floating point number, of the vector `v` of length `n`. The vector 'v' is a tuple of values in {0,1,2}.\n",
    "    The cap set will be constructed by adding vectors that do not create a line in order by priority.\n",
    "  \"\"\"\n",
    "  pair_count = len(set(itertools.combinations(v, 2)))\n",
    "  return pair_count / (n * (n - 1) / 2)\n",
    "\n",
    "\n",
    "def priority2(v: tuple[int, ...], n: int) -> float:\n",
    "  \"\"\"Returns the priority, as a floating point number, of the vector `v` of length `n`. The vector 'v' is a tuple of values in {0,1,2}.\n",
    "    The cap set will be constructed by adding vectors that do not create a line in order by priority.\n",
    "  \"\"\"\n",
    "  v = sorted(v)\n",
    "  pair_count = sum(1 for i in range(1, n) if v[i] != v[i-1])\n",
    "  return pair_count / n\n",
    "\n",
    "\n",
    "def priority3(v: tuple[int, ...], n: int) -> float:\n",
    "  \"\"\"Returns the priority, as a floating point number, of the vector `v` of length `n`. The vector 'v' is a tuple of values in {0,1,2}.\n",
    "    The cap set will be constructed by adding vectors that do not create a line in order by priority.\n",
    "  \"\"\"\n",
    "  unique_values = np.unique(v)\n",
    "  pair_count = sum(1 for i in range(n) for j in range(i+1, n) if v[i] != v[j])\n",
    "  diversity = len(unique_values) / n\n",
    "  return pair_count / n + diversity\n",
    "\n",
    "\n",
    "def priority4(v: tuple[int, ...], n: int) -> float:\n",
    "  \"\"\"Returns the priority, as a floating point number, of the vector `v` of length `n`. The vector 'v' is a tuple of values in {0,1,2}.\n",
    "    The cap set will be constructed by adding vectors that do not create a line in order by priority.\n",
    "  \"\"\"\n",
    "  unique_elements = len(set(v))\n",
    "  pair_count = sum(1 for i in range(n) for j in range(i+1, n) if v[i] != v[j])\n",
    "  return (unique_elements * pair_count) / (n * (n-1))\n",
    "\n",
    "def priority5(v: tuple[int, ...], n: int) -> float:\n",
    "  \"\"\"Returns the priority, as a floating point number, of the vector `v` of length `n`. The vector 'v' is a tuple of values in {0,1,2}.\n",
    "    The cap set will be constructed by adding vectors that do not create a line in order by priority.\n",
    "  \"\"\"\n",
    "  # This function is identical to `priority_v2`; we're only adding it to maintain the sequence of function names\n",
    "  return priority_v2(v, n)\n",
    "\n",
    "\n",
    "def priority6(v: tuple[int, ...], n: int) -> float:\n",
    "  \"\"\"Returns the priority, as a floating point number, of the vector `v` of length `n`. The vector 'v' is a tuple of values in {0,1,2}.\n",
    "    The cap set will be constructed by adding vectors that do not create a line in order by priority.\n",
    "  \"\"\"\n",
    "  count = 0\n",
    "  for i in range(n):\n",
    "    for j in range(i+1, n):\n",
    "      if v[i] != v[j]:\n",
    "        count += 1\n",
    "  return count / n\n",
    "\n",
    "\n",
    "def priority7(v: tuple[int, ...], n: int) -> float:\n",
    "  \"\"\"Returns the priority, as a floating point number, of the vector `v` of length `n`. The vector 'v' is a tuple of values in {0,1,2}.\n",
    "    The cap set will be constructed by adding vectors that do not create a line in order by priority.\n",
    "  \"\"\"\n",
    "  # Convert vector to a bitmask by inverting each 3-valued entry and joining them as a single binary number\n",
    "  bitmask = sum(2**i for i in range(n) if v[i] != 0)\n",
    "  # Calculate the number of 1s in the bitmask to get the pair count\n",
    "  pair_count = np.popcount(bitmask)\n",
    "  return pair_count / n\n",
    "\n",
    "\n",
    "def priority8(v: tuple[int, ...], n: int) -> float:\n",
    "  \"\"\"Returns the priority, as a floating point number, of the vector `v` of length `n`. The vector 'v' is a tuple of values in {0,1,2}.\n",
    "    The cap set will be constructed by adding vectors that do not create a line in order by priority.\n",
    "  \"\"\"\n",
    "  unique_pairs = len(set(list(itertools.combinations(v, 2))))\n",
    "  return unique_pairs / np.math.comb(n, 2)\n",
    "\n",
    "def priority9(v: tuple[int, ...], n: int) -> float:\n",
    "  \"\"\"Returns the priority, as a floating point number, of the vector `v` of length `n`. The vector 'v' is a tuple of values in {0,1,2}.\n",
    "    The cap set will be constructed by adding vectors that do not create a line in order by priority.\n",
    "  \"\"\"\n",
    "  unique_pairs = open('test')\n",
    "  return unique_pairs / np.math.comb(n, 2)\n",
    "\n",
    "def priority10(v: tuple[int, ...], n: int) -> float:\n",
    "  \"\"\"Returns the priority, as a floating point number, of the vector `v` of length `n`. The vector 'v' is a tuple of values in {0,1,2}.\n",
    "      The cap set will be constructed by adding vectors that do not create a line in order by priority.\n",
    "      This version checks for collinearity by calculating the determinant of the 3x3 matrix made from the vectors.\n",
    "  \"\"\"\n",
    "  # Calculate the dot product of each pair of vectors\n",
    "  dot_products = np.outer(v, v)[::-1].sum(axis=0)\n",
    "\n",
    "  # Add a small epsilon to avoid singularity\n",
    "  epsilon = 1e-8\n",
    "  determinant = np.linalg.det(np.vstack((v, dot_products, np.ones(n))).T + epsilon * np.eye(n + 1))\n",
    "\n",
    "  # Normalize the determinant to a range of [0, 1]\n",
    "  return 1.0 - np.abs(determinant) / (np.linalg.det(np.eye(n + 1)) ** 2)\n",
    "\n",
    "def priority11(v: tuple[int, ...], n: int) -> float:\n",
    "  \"\"\"Returns the priority, as a floating point number, of the vector `v` of length `n`. The vector 'v' is a tuple of values in {0,1,2}.\n",
    "      The cap set will be constructed by adding vectors that do not create a line in order by priority.\n",
    "      This version uses a simple heuristic to prioritize vectors with fewer lines.\n",
    "  \"\"\"\n",
    "  lines = set()\n",
    "  for i in range(n):\n",
    "    for j in range(i+1, n):\n",
    "      if np.sum(np.array(v[i:j+1]) == np.array(v[i:j+1]).sum(axis=0)) == 3:\n",
    "        lines.add((i, j))\n",
    "  if lines:\n",
    "    return len(lines)\n",
    "  else:\n",
    "    return 0.0"
   ]
  },
  {
   "cell_type": "code",
   "execution_count": 62,
   "metadata": {},
   "outputs": [
    {
     "name": "stdout",
     "output_type": "stream",
     "text": [
      "227 µs ± 8.77 µs per loop (mean ± std. dev. of 7 runs, 1,000 loops each)\n",
      "257 µs ± 2 µs per loop (mean ± std. dev. of 7 runs, 1,000 loops each)\n"
     ]
    },
    {
     "ename": "KeyboardInterrupt",
     "evalue": "",
     "output_type": "error",
     "traceback": [
      "\u001b[0;31m---------------------------------------------------------------------------\u001b[0m",
      "\u001b[0;31mKeyboardInterrupt\u001b[0m                         Traceback (most recent call last)",
      "Cell \u001b[0;32mIn[62], line 3\u001b[0m\n\u001b[1;32m      1\u001b[0m get_ipython()\u001b[38;5;241m.\u001b[39mrun_line_magic(\u001b[38;5;124m'\u001b[39m\u001b[38;5;124mtimeit\u001b[39m\u001b[38;5;124m'\u001b[39m, \u001b[38;5;124m'\u001b[39m\u001b[38;5;124mis_function_safe(priority1)\u001b[39m\u001b[38;5;124m'\u001b[39m)\n\u001b[1;32m      2\u001b[0m get_ipython()\u001b[38;5;241m.\u001b[39mrun_line_magic(\u001b[38;5;124m'\u001b[39m\u001b[38;5;124mtimeit\u001b[39m\u001b[38;5;124m'\u001b[39m, \u001b[38;5;124m'\u001b[39m\u001b[38;5;124mis_function_safe(priority2)\u001b[39m\u001b[38;5;124m'\u001b[39m)\n\u001b[0;32m----> 3\u001b[0m \u001b[43mget_ipython\u001b[49m\u001b[43m(\u001b[49m\u001b[43m)\u001b[49m\u001b[38;5;241;43m.\u001b[39;49m\u001b[43mrun_line_magic\u001b[49m\u001b[43m(\u001b[49m\u001b[38;5;124;43m'\u001b[39;49m\u001b[38;5;124;43mtimeit\u001b[39;49m\u001b[38;5;124;43m'\u001b[39;49m\u001b[43m,\u001b[49m\u001b[43m \u001b[49m\u001b[38;5;124;43m'\u001b[39;49m\u001b[38;5;124;43mis_function_safe(priority3)\u001b[39;49m\u001b[38;5;124;43m'\u001b[39;49m\u001b[43m)\u001b[49m\n\u001b[1;32m      4\u001b[0m get_ipython()\u001b[38;5;241m.\u001b[39mrun_line_magic(\u001b[38;5;124m'\u001b[39m\u001b[38;5;124mtimeit\u001b[39m\u001b[38;5;124m'\u001b[39m, \u001b[38;5;124m'\u001b[39m\u001b[38;5;124mis_function_safe(priority4)\u001b[39m\u001b[38;5;124m'\u001b[39m)\n\u001b[1;32m      5\u001b[0m get_ipython()\u001b[38;5;241m.\u001b[39mrun_line_magic(\u001b[38;5;124m'\u001b[39m\u001b[38;5;124mtimeit\u001b[39m\u001b[38;5;124m'\u001b[39m, \u001b[38;5;124m'\u001b[39m\u001b[38;5;124mis_function_safe(priority5)\u001b[39m\u001b[38;5;124m'\u001b[39m)\n",
      "File \u001b[0;32m~/jaxVenv/lib/python3.11/site-packages/IPython/core/interactiveshell.py:2432\u001b[0m, in \u001b[0;36mInteractiveShell.run_line_magic\u001b[0;34m(self, magic_name, line, _stack_depth)\u001b[0m\n\u001b[1;32m   2430\u001b[0m     kwargs[\u001b[38;5;124m'\u001b[39m\u001b[38;5;124mlocal_ns\u001b[39m\u001b[38;5;124m'\u001b[39m] \u001b[38;5;241m=\u001b[39m \u001b[38;5;28mself\u001b[39m\u001b[38;5;241m.\u001b[39mget_local_scope(stack_depth)\n\u001b[1;32m   2431\u001b[0m \u001b[38;5;28;01mwith\u001b[39;00m \u001b[38;5;28mself\u001b[39m\u001b[38;5;241m.\u001b[39mbuiltin_trap:\n\u001b[0;32m-> 2432\u001b[0m     result \u001b[38;5;241m=\u001b[39m \u001b[43mfn\u001b[49m\u001b[43m(\u001b[49m\u001b[38;5;241;43m*\u001b[39;49m\u001b[43margs\u001b[49m\u001b[43m,\u001b[49m\u001b[43m \u001b[49m\u001b[38;5;241;43m*\u001b[39;49m\u001b[38;5;241;43m*\u001b[39;49m\u001b[43mkwargs\u001b[49m\u001b[43m)\u001b[49m\n\u001b[1;32m   2434\u001b[0m \u001b[38;5;66;03m# The code below prevents the output from being displayed\u001b[39;00m\n\u001b[1;32m   2435\u001b[0m \u001b[38;5;66;03m# when using magics with decorator @output_can_be_silenced\u001b[39;00m\n\u001b[1;32m   2436\u001b[0m \u001b[38;5;66;03m# when the last Python token in the expression is a ';'.\u001b[39;00m\n\u001b[1;32m   2437\u001b[0m \u001b[38;5;28;01mif\u001b[39;00m \u001b[38;5;28mgetattr\u001b[39m(fn, magic\u001b[38;5;241m.\u001b[39mMAGIC_OUTPUT_CAN_BE_SILENCED, \u001b[38;5;28;01mFalse\u001b[39;00m):\n",
      "File \u001b[0;32m~/jaxVenv/lib/python3.11/site-packages/IPython/core/magics/execution.py:1189\u001b[0m, in \u001b[0;36mExecutionMagics.timeit\u001b[0;34m(self, line, cell, local_ns)\u001b[0m\n\u001b[1;32m   1186\u001b[0m         \u001b[38;5;28;01mif\u001b[39;00m time_number \u001b[38;5;241m>\u001b[39m\u001b[38;5;241m=\u001b[39m \u001b[38;5;241m0.2\u001b[39m:\n\u001b[1;32m   1187\u001b[0m             \u001b[38;5;28;01mbreak\u001b[39;00m\n\u001b[0;32m-> 1189\u001b[0m all_runs \u001b[38;5;241m=\u001b[39m \u001b[43mtimer\u001b[49m\u001b[38;5;241;43m.\u001b[39;49m\u001b[43mrepeat\u001b[49m\u001b[43m(\u001b[49m\u001b[43mrepeat\u001b[49m\u001b[43m,\u001b[49m\u001b[43m \u001b[49m\u001b[43mnumber\u001b[49m\u001b[43m)\u001b[49m\n\u001b[1;32m   1190\u001b[0m best \u001b[38;5;241m=\u001b[39m \u001b[38;5;28mmin\u001b[39m(all_runs) \u001b[38;5;241m/\u001b[39m number\n\u001b[1;32m   1191\u001b[0m worst \u001b[38;5;241m=\u001b[39m \u001b[38;5;28mmax\u001b[39m(all_runs) \u001b[38;5;241m/\u001b[39m number\n",
      "File \u001b[0;32m/opt/homebrew/Cellar/python@3.11/3.11.10/Frameworks/Python.framework/Versions/3.11/lib/python3.11/timeit.py:208\u001b[0m, in \u001b[0;36mTimer.repeat\u001b[0;34m(self, repeat, number)\u001b[0m\n\u001b[1;32m    206\u001b[0m r \u001b[38;5;241m=\u001b[39m []\n\u001b[1;32m    207\u001b[0m \u001b[38;5;28;01mfor\u001b[39;00m i \u001b[38;5;129;01min\u001b[39;00m \u001b[38;5;28mrange\u001b[39m(repeat):\n\u001b[0;32m--> 208\u001b[0m     t \u001b[38;5;241m=\u001b[39m \u001b[38;5;28;43mself\u001b[39;49m\u001b[38;5;241;43m.\u001b[39;49m\u001b[43mtimeit\u001b[49m\u001b[43m(\u001b[49m\u001b[43mnumber\u001b[49m\u001b[43m)\u001b[49m\n\u001b[1;32m    209\u001b[0m     r\u001b[38;5;241m.\u001b[39mappend(t)\n\u001b[1;32m    210\u001b[0m \u001b[38;5;28;01mreturn\u001b[39;00m r\n",
      "File \u001b[0;32m~/jaxVenv/lib/python3.11/site-packages/IPython/core/magics/execution.py:173\u001b[0m, in \u001b[0;36mTimer.timeit\u001b[0;34m(self, number)\u001b[0m\n\u001b[1;32m    171\u001b[0m gc\u001b[38;5;241m.\u001b[39mdisable()\n\u001b[1;32m    172\u001b[0m \u001b[38;5;28;01mtry\u001b[39;00m:\n\u001b[0;32m--> 173\u001b[0m     timing \u001b[38;5;241m=\u001b[39m \u001b[38;5;28;43mself\u001b[39;49m\u001b[38;5;241;43m.\u001b[39;49m\u001b[43minner\u001b[49m\u001b[43m(\u001b[49m\u001b[43mit\u001b[49m\u001b[43m,\u001b[49m\u001b[43m \u001b[49m\u001b[38;5;28;43mself\u001b[39;49m\u001b[38;5;241;43m.\u001b[39;49m\u001b[43mtimer\u001b[49m\u001b[43m)\u001b[49m\n\u001b[1;32m    174\u001b[0m \u001b[38;5;28;01mfinally\u001b[39;00m:\n\u001b[1;32m    175\u001b[0m     \u001b[38;5;28;01mif\u001b[39;00m gcold:\n",
      "File \u001b[0;32m<magic-timeit>:1\u001b[0m, in \u001b[0;36minner\u001b[0;34m(_it, _timer)\u001b[0m\n",
      "Cell \u001b[0;32mIn[59], line 2\u001b[0m, in \u001b[0;36mis_function_safe\u001b[0;34m(func)\u001b[0m\n\u001b[1;32m      1\u001b[0m \u001b[38;5;28;01mdef\u001b[39;00m \u001b[38;5;21mis_function_safe\u001b[39m(func):\n\u001b[0;32m----> 2\u001b[0m     source \u001b[38;5;241m=\u001b[39m \u001b[43minspect\u001b[49m\u001b[38;5;241;43m.\u001b[39;49m\u001b[43mgetsource\u001b[49m\u001b[43m(\u001b[49m\u001b[43mfunc\u001b[49m\u001b[43m)\u001b[49m\n\u001b[1;32m      3\u001b[0m     parsed \u001b[38;5;241m=\u001b[39m ast\u001b[38;5;241m.\u001b[39mparse(source)\n\u001b[1;32m      5\u001b[0m     imported_packages \u001b[38;5;241m=\u001b[39m [\n\u001b[1;32m      6\u001b[0m         node\u001b[38;5;241m.\u001b[39mmodule \u001b[38;5;28;01mfor\u001b[39;00m node \u001b[38;5;129;01min\u001b[39;00m ast\u001b[38;5;241m.\u001b[39mwalk(parsed)\n\u001b[1;32m      7\u001b[0m         \u001b[38;5;28;01mif\u001b[39;00m \u001b[38;5;28misinstance\u001b[39m(node, ast\u001b[38;5;241m.\u001b[39mImportFrom)\n\u001b[1;32m      8\u001b[0m     ]\n",
      "File \u001b[0;32m/opt/homebrew/Cellar/python@3.11/3.11.10/Frameworks/Python.framework/Versions/3.11/lib/python3.11/inspect.py:1258\u001b[0m, in \u001b[0;36mgetsource\u001b[0;34m(object)\u001b[0m\n\u001b[1;32m   1252\u001b[0m \u001b[38;5;28;01mdef\u001b[39;00m \u001b[38;5;21mgetsource\u001b[39m(\u001b[38;5;28mobject\u001b[39m):\n\u001b[1;32m   1253\u001b[0m \u001b[38;5;250m    \u001b[39m\u001b[38;5;124;03m\"\"\"Return the text of the source code for an object.\u001b[39;00m\n\u001b[1;32m   1254\u001b[0m \n\u001b[1;32m   1255\u001b[0m \u001b[38;5;124;03m    The argument may be a module, class, method, function, traceback, frame,\u001b[39;00m\n\u001b[1;32m   1256\u001b[0m \u001b[38;5;124;03m    or code object.  The source code is returned as a single string.  An\u001b[39;00m\n\u001b[1;32m   1257\u001b[0m \u001b[38;5;124;03m    OSError is raised if the source code cannot be retrieved.\"\"\"\u001b[39;00m\n\u001b[0;32m-> 1258\u001b[0m     lines, lnum \u001b[38;5;241m=\u001b[39m \u001b[43mgetsourcelines\u001b[49m\u001b[43m(\u001b[49m\u001b[38;5;28;43mobject\u001b[39;49m\u001b[43m)\u001b[49m\n\u001b[1;32m   1259\u001b[0m     \u001b[38;5;28;01mreturn\u001b[39;00m \u001b[38;5;124m'\u001b[39m\u001b[38;5;124m'\u001b[39m\u001b[38;5;241m.\u001b[39mjoin(lines)\n",
      "File \u001b[0;32m/opt/homebrew/Cellar/python@3.11/3.11.10/Frameworks/Python.framework/Versions/3.11/lib/python3.11/inspect.py:1250\u001b[0m, in \u001b[0;36mgetsourcelines\u001b[0;34m(object)\u001b[0m\n\u001b[1;32m   1248\u001b[0m     \u001b[38;5;28;01mreturn\u001b[39;00m lines, \u001b[38;5;241m0\u001b[39m\n\u001b[1;32m   1249\u001b[0m \u001b[38;5;28;01melse\u001b[39;00m:\n\u001b[0;32m-> 1250\u001b[0m     \u001b[38;5;28;01mreturn\u001b[39;00m \u001b[43mgetblock\u001b[49m\u001b[43m(\u001b[49m\u001b[43mlines\u001b[49m\u001b[43m[\u001b[49m\u001b[43mlnum\u001b[49m\u001b[43m:\u001b[49m\u001b[43m]\u001b[49m\u001b[43m)\u001b[49m, lnum \u001b[38;5;241m+\u001b[39m \u001b[38;5;241m1\u001b[39m\n",
      "File \u001b[0;32m/opt/homebrew/Cellar/python@3.11/3.11.10/Frameworks/Python.framework/Versions/3.11/lib/python3.11/inspect.py:1225\u001b[0m, in \u001b[0;36mgetblock\u001b[0;34m(lines)\u001b[0m\n\u001b[1;32m   1223\u001b[0m \u001b[38;5;28;01mtry\u001b[39;00m:\n\u001b[1;32m   1224\u001b[0m     tokens \u001b[38;5;241m=\u001b[39m tokenize\u001b[38;5;241m.\u001b[39mgenerate_tokens(\u001b[38;5;28miter\u001b[39m(lines)\u001b[38;5;241m.\u001b[39m\u001b[38;5;21m__next__\u001b[39m)\n\u001b[0;32m-> 1225\u001b[0m     \u001b[38;5;28;01mfor\u001b[39;00m _token \u001b[38;5;129;01min\u001b[39;00m tokens:\n\u001b[1;32m   1226\u001b[0m         blockfinder\u001b[38;5;241m.\u001b[39mtokeneater(\u001b[38;5;241m*\u001b[39m_token)\n\u001b[1;32m   1227\u001b[0m \u001b[38;5;28;01mexcept\u001b[39;00m (EndOfBlock, \u001b[38;5;167;01mIndentationError\u001b[39;00m):\n",
      "File \u001b[0;32m/opt/homebrew/Cellar/python@3.11/3.11.10/Frameworks/Python.framework/Versions/3.11/lib/python3.11/tokenize.py:487\u001b[0m, in \u001b[0;36m_tokenize\u001b[0;34m(readline, encoding)\u001b[0m\n\u001b[1;32m    485\u001b[0m \u001b[38;5;28;01mif\u001b[39;00m \u001b[38;5;129;01mnot\u001b[39;00m line: \u001b[38;5;28;01mbreak\u001b[39;00m\n\u001b[1;32m    486\u001b[0m column \u001b[38;5;241m=\u001b[39m \u001b[38;5;241m0\u001b[39m\n\u001b[0;32m--> 487\u001b[0m \u001b[38;5;28;01mwhile\u001b[39;00m \u001b[43mpos\u001b[49m\u001b[43m \u001b[49m\u001b[38;5;241;43m<\u001b[39;49m\u001b[43m \u001b[49m\u001b[38;5;28;43mmax\u001b[39;49m:                   \u001b[38;5;66;03m# measure leading whitespace\u001b[39;00m\n\u001b[1;32m    488\u001b[0m     \u001b[38;5;28;01mif\u001b[39;00m line[pos] \u001b[38;5;241m==\u001b[39m \u001b[38;5;124m'\u001b[39m\u001b[38;5;124m \u001b[39m\u001b[38;5;124m'\u001b[39m:\n\u001b[1;32m    489\u001b[0m         column \u001b[38;5;241m+\u001b[39m\u001b[38;5;241m=\u001b[39m \u001b[38;5;241m1\u001b[39m\n",
      "\u001b[0;31mKeyboardInterrupt\u001b[0m: "
     ]
    }
   ],
   "source": [
    "%timeit is_function_safe(priority1)\n",
    "%timeit is_function_safe(priority2)\n",
    "%timeit is_function_safe(priority3)\n",
    "%timeit is_function_safe(priority4)\n",
    "%timeit is_function_safe(priority5)\n",
    "%timeit is_function_safe(priority6)\n",
    "%timeit is_function_safe(priority7)\n",
    "%timeit is_function_safe(priority8)\n",
    "%timeit is_function_safe(priority9)\n",
    "%timeit is_function_safe(priority10)\n",
    "%timeit is_function_safe(priority11)\n"
   ]
  },
  {
   "cell_type": "code",
   "execution_count": 63,
   "metadata": {},
   "outputs": [
    {
     "name": "stdout",
     "output_type": "stream",
     "text": [
      "True\n",
      "True\n",
      "True\n",
      "True\n",
      "True\n",
      "True\n",
      "True\n",
      "True\n",
      "Function\n",
      "['open(']\n",
      "False\n",
      "True\n",
      "True\n"
     ]
    }
   ],
   "source": [
    "print(is_function_safe(priority1))\n",
    "print(is_function_safe(priority2))\n",
    "print(is_function_safe(priority3))\n",
    "print(is_function_safe(priority4))\n",
    "print(is_function_safe(priority5))\n",
    "print(is_function_safe(priority6))\n",
    "print(is_function_safe(priority7))\n",
    "print(is_function_safe(priority8))\n",
    "print(is_function_safe(priority9))\n",
    "print(is_function_safe(priority10))\n",
    "print(is_function_safe(priority11))"
   ]
  },
  {
   "cell_type": "code",
   "execution_count": 64,
   "metadata": {},
   "outputs": [
    {
     "data": {
      "text/plain": [
       "True"
      ]
     },
     "execution_count": 64,
     "metadata": {},
     "output_type": "execute_result"
    }
   ],
   "source": [
    "def priority_v2(v: tuple[int, ...], n: int) -> float:\n",
    "    \"\"\"Improves the priority calculation by considering the distribution of 0's, 1's, and 2's in the vector 'v'.\n",
    "    The priority is inversely proportional to the number of occurrences of each unique value in 'v'.\n",
    "    \"\"\"\n",
    "    unique_values = np.unique(v)\n",
    "    counts = [list(v).count(val) for val in unique_values]\n",
    "    if 1 in counts:\n",
    "        priority = np.mean([1/c for c in counts if c != 1])\n",
    "    else:\n",
    "        priority = 1.0\n",
    "    return priority\n",
    "\n",
    "is_function_safe(priority_v2)"
   ]
  },
  {
   "cell_type": "code",
   "execution_count": 65,
   "metadata": {},
   "outputs": [
    {
     "data": {
      "text/plain": [
       "True"
      ]
     },
     "execution_count": 65,
     "metadata": {},
     "output_type": "execute_result"
    }
   ],
   "source": [
    "def priority_v2(v: tuple[int, ...], n: int) -> float:\n",
    "  \"\"\"Improved version of `priority_v1`.\n",
    "  \"\"\"\n",
    "  sums, freqs = set(), {}\n",
    "  for _ in itertools.combinations(v, 3):\n",
    "    sum_ = sum(x for x in _)\n",
    "    sums.add(sum_)\n",
    "    if sum_ not in freqs:\n",
    "      freqs[sum_] = 0\n",
    "    freqs[sum_] += 1\n",
    "  return len(sums) / (n * (n - 1) * (n - 2)) + len(freqs)\n",
    "\n",
    "is_function_safe(priority_v2)"
   ]
  },
  {
   "cell_type": "code",
   "execution_count": 66,
   "metadata": {},
   "outputs": [
    {
     "data": {
      "text/plain": [
       "True"
      ]
     },
     "execution_count": 66,
     "metadata": {},
     "output_type": "execute_result"
    }
   ],
   "source": [
    "def priority_v2(v: tuple[int, ...], n: int) -> float:\n",
    "  \"\"\"Improved version of `priority_v1`.\n",
    "  \"\"\"\n",
    "  sums, freqs = set(), {}\n",
    "  for _ in itertools.combinations(v, 3):\n",
    "    sum_ = sum(x for x in _)\n",
    "    sums.add(sum_)\n",
    "    if sum_ not in freqs:\n",
    "      freqs[sum_] = 0\n",
    "    freqs[sum_] += 1\n",
    "  return len(sums) / (n * (n - 1) * (n - 2)) + len(freqs)\n",
    "\n",
    "is_function_safe(priority_v2)"
   ]
  },
  {
   "cell_type": "code",
   "execution_count": 67,
   "metadata": {},
   "outputs": [
    {
     "data": {
      "text/plain": [
       "True"
      ]
     },
     "execution_count": 67,
     "metadata": {},
     "output_type": "execute_result"
    }
   ],
   "source": [
    "def priority_v3(v: tuple[int, ...], n: int) -> float:\n",
    "  \"\"\"Further improved version of `priority_v1`.\n",
    "  \"\"\"\n",
    "  unique_counts = np.bincount(v, minlength=3)\n",
    "  two_counts = np.bincount(unique_counts, minlength=2)\n",
    "  three_counts = np.bincount(unique_counts, minlength=3)\n",
    "\n",
    "  # Calculate the count of unique vectors and vectors with 2 or 3 occurrences\n",
    "  unique_counts_nonzero = unique_counts[unique_counts > 0].sum()\n",
    "  two_counts_nonzero = two_counts[two_counts > 0].sum()\n",
    "\n",
    "  # Calculate the number of vectors with 3 occurrences\n",
    "  three_counts_nonzero = three_counts[three_counts > 0].sum()\n",
    "\n",
    "  # Penalty for vectors with 3 occurrences\n",
    "  penalty = 3 * three_counts_nonzero\n",
    "\n",
    "  # Penalty for vectors with 2 occurrences, considering their multiplicity\n",
    "  two_counts_penalty = sum(i * (i - 1) for i in two_counts[two_counts > 0])\n",
    "\n",
    "  # Return the priority value\n",
    "  return np.prod(unique_counts) * (n - unique_counts_nonzero) * len(two_counts[two_counts > 0]) * np.exp(-penalty - 0.5 * two_counts_penalty)\n",
    "\n",
    "is_function_safe(priority_v3)"
   ]
  },
  {
   "cell_type": "code",
   "execution_count": 68,
   "metadata": {},
   "outputs": [
    {
     "data": {
      "text/plain": [
       "True"
      ]
     },
     "execution_count": 68,
     "metadata": {},
     "output_type": "execute_result"
    }
   ],
   "source": [
    "def priority_v2(v: tuple[int, ...], n: int) -> float:\n",
    "  \"\"\"Improved version of `priority_v1`.\n",
    "  This version considers the distance between consecutive points.\n",
    "  \"\"\"\n",
    "  diff = np.abs(np.roll(v, 1) - v)\n",
    "  distances = np.sum(diff)\n",
    "  direction_changes = (diff[1:] != diff[:-1]).sum()\n",
    "  return distances * n + (n - 1) * (distances / (n - 1)) * direction_changes\n",
    "\n",
    "is_function_safe(priority_v2)"
   ]
  },
  {
   "cell_type": "code",
   "execution_count": 69,
   "metadata": {},
   "outputs": [
    {
     "data": {
      "text/plain": [
       "True"
      ]
     },
     "execution_count": 69,
     "metadata": {},
     "output_type": "execute_result"
    }
   ],
   "source": [
    "def priority_v3(v: tuple[int, ...], n: int) -> float:\n",
    "    \"\"\"\n",
    "    Improved version of `priority_v2`. This version uses the Counter from collections module to improve efficiency.\n",
    "    \"\"\"\n",
    "    from collections import Counter\n",
    "    value_counter = Counter(v)\n",
    "    return len(set(value_counter.elements()) & {0, 1, 2})\n",
    "\n",
    "is_function_safe(priority_v3)"
   ]
  },
  {
   "cell_type": "code",
   "execution_count": 70,
   "metadata": {},
   "outputs": [
    {
     "data": {
      "text/plain": [
       "True"
      ]
     },
     "execution_count": 70,
     "metadata": {},
     "output_type": "execute_result"
    }
   ],
   "source": [
    "def priority_v3(v: tuple[int, ...], n: int) -> float:\n",
    "    \"\"\"Improved version of `priority_v2`.\n",
    "    Adds a directional symmetry penalty to discourage vectors that are too similar.\n",
    "    \"\"\"\n",
    "    value_counts = {0: v.count(0), 1: v.count(1), 2: v.count(2)}\n",
    "\n",
    "    # Soft zero penalty with reduced impact\n",
    "    zero_penalty = (value_counts[0] / n) ** 0.5\n",
    "\n",
    "    # Entropy-like balance score\n",
    "    balance_score = 1 - sum((count/n) * np.log(count/n + 1e-10) for count in value_counts.values())\n",
    "\n",
    "    # Distribution bonus: reward vectors with more even spread\n",
    "    distribution_bonus = 1 - np.std([count/n for count in value_counts.values()])\n",
    "\n",
    "    # Symmetry penalty: discourage vectors that are too directionally uniform\n",
    "    directional_symmetry = max(\n",
    "        abs(sum(1 if x == i else -1 if x == (i+1)%3 else 0 for x in v)) / n\n",
    "        for i in range(3)\n",
    "    )\n",
    "    symmetry_penalty = directional_symmetry\n",
    "\n",
    "    # Combine metrics with different weighting\n",
    "    return balance_score - 0.5 * zero_penalty + 0.2 * distribution_bonus - 0.3 * symmetry_penalty\n",
    "\n",
    "is_function_safe(priority_v3)"
   ]
  },
  {
   "cell_type": "code",
   "execution_count": 73,
   "metadata": {},
   "outputs": [
    {
     "name": "stdout",
     "output_type": "stream",
     "text": [
      "Import\n",
      "['scipy.spatial.distance']\n"
     ]
    },
    {
     "data": {
      "text/plain": [
       "False"
      ]
     },
     "execution_count": 73,
     "metadata": {},
     "output_type": "execute_result"
    }
   ],
   "source": [
    "def priority_v2(v: tuple[int, ...], n: int) -> float:\n",
    "  \"\"\"Improved version of `priority_v1`.\n",
    "  \"\"\"\n",
    "  unique_triangles = len(set(tuple(sorted(set(x))) for x in itertools.combinations(v, 3)))\n",
    "  dense_triangles = sum(len(set(tuple(sorted(set(x))) for x in itertools.combinations(v[i:i+3], 3))) for i in range(n-2)) / (n-2)\n",
    "  max_triangles = n * (n - 1) * (n - 2) / 6\n",
    "  # Adjust the bias based on the number of unique values in the vector\n",
    "  unique_values = len(set(v))\n",
    "  if unique_values < 3:\n",
    "    bias = np.sqrt(dense_triangles)\n",
    "  else:\n",
    "    bias = np.sqrt(dense_triangles * (3 - unique_values) / (3 * (n - 1)))\n",
    "  # Small change: calculate the average of smallest circle radii of triangles\n",
    "  import scipy.spatial.distance as spd\n",
    "  all_distances = []\n",
    "  for i in range(n-2):\n",
    "    for j in range(i+1, n-1):\n",
    "      for k in range(j+1, n):\n",
    "        triangle = np.array([v[i], v[j], v[k]])\n",
    "        dists = spd.pdist(triangle)\n",
    "        radius = dists.min() / 2\n",
    "        all_distances.append(radius)\n",
    "  avg_radius = np.mean(all_distances)\n",
    "  # Normalize the result between 0 and 1\n",
    "  priority = (unique_triangles / max_triangles + bias + avg_radius) / 3\n",
    "  return priority\n",
    "\n",
    "is_function_safe(priority_v2)"
   ]
  },
  {
   "cell_type": "code",
   "execution_count": null,
   "metadata": {},
   "outputs": [],
   "source": []
  }
 ],
 "metadata": {
  "kernelspec": {
   "display_name": "jaxVenv",
   "language": "python",
   "name": "jaxvenv"
  },
  "language_info": {
   "codemirror_mode": {
    "name": "ipython",
    "version": 3
   },
   "file_extension": ".py",
   "mimetype": "text/x-python",
   "name": "python",
   "nbconvert_exporter": "python",
   "pygments_lexer": "ipython3",
   "version": "3.11.10"
  }
 },
 "nbformat": 4,
 "nbformat_minor": 2
}
