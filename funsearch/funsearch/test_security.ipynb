{
 "cells": [
  {
   "cell_type": "code",
   "execution_count": 107,
   "metadata": {},
   "outputs": [],
   "source": [
    "import ast, inspect\n",
    "\n",
    "ALLOWED_FUNCTIONS = {'itertools', 'numpy', 'np', 'math'}\n",
    "DISALLOWED_BUILTINS = {'print','__import__','breakpoint','compile','open','dir','eval','exec','globals','input','repr'}\n",
    "ALLOWED_BUILTINS = {\n",
    "    'abs', 'aiter', 'all', 'any', 'ascii', 'bin', 'bool', 'bytearray', 'bytes', \n",
    "    'callable', 'chr', 'classmethod', 'complex', 'delattr', 'dict', \n",
    "    'divmod', 'enumerate', 'filter', 'float', 'format', 'frozenset', \n",
    "    'getattr', 'hasattr', 'hash', 'help', 'hex', 'id', 'int', \n",
    "    'isinstance', 'issubclass', 'iter', 'len', 'list', 'locals', 'map', \n",
    "    'max', 'memoryview', 'min', 'next', 'object', 'oct', 'ord', 'pow', \n",
    "    'property', 'range', 'reversed', 'round', 'set', 'setattr', 'slice', \n",
    "    'sorted', 'staticmethod', 'str', 'sum', 'super', 'tuple', 'type', \n",
    "    'vars', 'zip'\n",
    "}\n",
    "\n",
    "class FunctionChecker(ast.NodeVisitor):\n",
    "    def __init__(self):\n",
    "        self.is_safe = True\n",
    "        self.vars = []\n",
    "\n",
    "    def visit_Import(self, node):\n",
    "        for alias in node.names:\n",
    "            if alias.name not in ALLOWED_FUNCTIONS:\n",
    "                self.is_safe = False\n",
    "            self.generic_visit(node)\n",
    "\n",
    "    def visit_ImportFrom(self, node):\n",
    "        # Now, keep track of which parts are allowed from the module\n",
    "        if node.module not in ALLOWED_FUNCTIONS:\n",
    "            self.is_safe = False  # Disallow the whole import if module isn't allowed\n",
    "        for alias in node.names:\n",
    "            if alias.name not in self.vars:\n",
    "                self.vars.append(alias.name)  # Register imported names as safe variables\n",
    "        self.generic_visit(node)\n",
    "    \n",
    "    def visit_Assign(self, node):\n",
    "        for target in node.targets:\n",
    "            # Check if the target is a name\n",
    "            if isinstance(target, ast.Name):\n",
    "                self.vars.append(target.id)\n",
    "            # Check if the target is a tuple or list\n",
    "            elif isinstance(target, (ast.Tuple, ast.List)):\n",
    "                for element in target.elts:\n",
    "                    if isinstance(element, ast.Name):\n",
    "                        self.vars.append(element.id)\n",
    "\n",
    "    def visit_arguments(self, node):\n",
    "        for arg in node.args:\n",
    "            if isinstance(arg, ast.arg):\n",
    "                if arg.arg not in self.vars:\n",
    "                    self.vars.append(arg.arg)\n",
    "        self.generic_visit(node)\n",
    "\n",
    "    def visit_Call(self, node):\n",
    "        # # Check for disallowed built-in function calls\n",
    "        if isinstance(node.func, ast.Name):\n",
    "            print(node.func.id)\n",
    "            if node.func.id in DISALLOWED_BUILTINS:\n",
    "                self.is_safe = False\n",
    "        # # Check if function calls are from allowed modules\n",
    "        if isinstance(node.func, ast.Attribute):\n",
    "            # if node.func.value.id not in ALLOWED_FUNCTIONS:\n",
    "            #     self.is_safe = False\n",
    "            func_value = ast.unparse(node.func.value)\n",
    "            func_value = func_value.split('.')[0]\n",
    "            if '(' in func_value:\n",
    "                func_value = func_value.split('(')[0]\n",
    "            if '[' in func_value:\n",
    "                func_value = func_value.split('[')[0]\n",
    "            if func_value not in ALLOWED_FUNCTIONS and func_value not in self.vars and func_value not in ALLOWED_BUILTINS:\n",
    "                self.is_safe = False\n",
    "        self.generic_visit(node)\n",
    "\n",
    "def is_function_safe(func):\n",
    "    function_code = inspect.getsource(func)\n",
    "    tree = ast.parse(function_code)\n",
    "    checker = FunctionChecker()\n",
    "    checker.visit(tree)\n",
    "    return checker.is_safe\n",
    "\n",
    "def is_function_safe_string(function_code:str)->bool:\n",
    "    #function_code = inspect.getsource(func)\n",
    "    tree = ast.parse(function_code)\n",
    "    checker = FunctionChecker()\n",
    "    checker.visit(tree)\n",
    "    return checker.is_safe"
   ]
  },
  {
   "cell_type": "code",
   "execution_count": 108,
   "metadata": {},
   "outputs": [
    {
     "data": {
      "text/plain": [
       "True"
      ]
     },
     "execution_count": 108,
     "metadata": {},
     "output_type": "execute_result"
    }
   ],
   "source": [
    "def priority_v2(v: tuple[int, ...], n: int) -> float:\n",
    "    \"\"\"Improves the priority calculation by considering the distribution of 0's, 1's, and 2's in the vector 'v'.\n",
    "    The priority is inversely proportional to the number of occurrences of each unique value in 'v'.\n",
    "    \"\"\"\n",
    "    unique_values = np.unique(v)\n",
    "    counts = [list(v).count(val) for val in unique_values]\n",
    "    if 1 in counts:\n",
    "        priority = np.mean([1/c for c in counts if c != 1])\n",
    "    else:\n",
    "        priority = 1.0\n",
    "    return priority\n",
    "\n",
    "is_function_safe(priority_v2)"
   ]
  },
  {
   "cell_type": "code",
   "execution_count": 111,
   "metadata": {},
   "outputs": [
    {
     "name": "stdout",
     "output_type": "stream",
     "text": [
      "sqrt\n",
      "True\n"
     ]
    }
   ],
   "source": [
    "import numpy as np\n",
    "import itertools\n",
    "\n",
    "def my_function():\n",
    "    from numpy import sqrt\n",
    "    x = list([1,2,3,4])\n",
    "\n",
    "    return sqrt(2)\n",
    "\n",
    "\n",
    "print(is_function_safe(my_function))\n",
    "\n"
   ]
  },
  {
   "cell_type": "code",
   "execution_count": 110,
   "metadata": {},
   "outputs": [],
   "source": [
    "def priority1(v: tuple[int, ...], n: int) -> float:\n",
    "  \"\"\"Returns the priority, as a floating point number, of the vector `v` of length `n`. The vector 'v' is a tuple of values in {0,1,2}.\n",
    "    The cap set will be constructed by adding vectors that do not create a line in order by priority.\n",
    "  \"\"\"\n",
    "  pair_count = len(set(itertools.combinations(v, 2)))\n",
    "  return pair_count / (n * (n - 1) / 2)\n",
    "\n",
    "\n",
    "def priority2(v: tuple[int, ...], n: int) -> float:\n",
    "  \"\"\"Returns the priority, as a floating point number, of the vector `v` of length `n`. The vector 'v' is a tuple of values in {0,1,2}.\n",
    "    The cap set will be constructed by adding vectors that do not create a line in order by priority.\n",
    "  \"\"\"\n",
    "  v = sorted(v)\n",
    "  pair_count = sum(1 for i in range(1, n) if v[i] != v[i-1])\n",
    "  return pair_count / n\n",
    "\n",
    "\n",
    "def priority3(v: tuple[int, ...], n: int) -> float:\n",
    "  \"\"\"Returns the priority, as a floating point number, of the vector `v` of length `n`. The vector 'v' is a tuple of values in {0,1,2}.\n",
    "    The cap set will be constructed by adding vectors that do not create a line in order by priority.\n",
    "  \"\"\"\n",
    "  unique_values = np.unique(v)\n",
    "  pair_count = sum(1 for i in range(n) for j in range(i+1, n) if v[i] != v[j])\n",
    "  diversity = len(unique_values) / n\n",
    "  return pair_count / n + diversity\n",
    "\n",
    "\n",
    "def priority4(v: tuple[int, ...], n: int) -> float:\n",
    "  \"\"\"Returns the priority, as a floating point number, of the vector `v` of length `n`. The vector 'v' is a tuple of values in {0,1,2}.\n",
    "    The cap set will be constructed by adding vectors that do not create a line in order by priority.\n",
    "  \"\"\"\n",
    "  unique_elements = len(set(v))\n",
    "  pair_count = sum(1 for i in range(n) for j in range(i+1, n) if v[i] != v[j])\n",
    "  return (unique_elements * pair_count) / (n * (n-1))\n",
    "\n",
    "def priority5(v: tuple[int, ...], n: int) -> float:\n",
    "  \"\"\"Returns the priority, as a floating point number, of the vector `v` of length `n`. The vector 'v' is a tuple of values in {0,1,2}.\n",
    "    The cap set will be constructed by adding vectors that do not create a line in order by priority.\n",
    "  \"\"\"\n",
    "  # This function is identical to `priority_v2`; we're only adding it to maintain the sequence of function names\n",
    "  return priority_v2(v, n)\n",
    "\n",
    "\n",
    "def priority6(v: tuple[int, ...], n: int) -> float:\n",
    "  \"\"\"Returns the priority, as a floating point number, of the vector `v` of length `n`. The vector 'v' is a tuple of values in {0,1,2}.\n",
    "    The cap set will be constructed by adding vectors that do not create a line in order by priority.\n",
    "  \"\"\"\n",
    "  count = 0\n",
    "  for i in range(n):\n",
    "    for j in range(i+1, n):\n",
    "      if v[i] != v[j]:\n",
    "        count += 1\n",
    "  return count / n\n",
    "\n",
    "\n",
    "def priority7(v: tuple[int, ...], n: int) -> float:\n",
    "  \"\"\"Returns the priority, as a floating point number, of the vector `v` of length `n`. The vector 'v' is a tuple of values in {0,1,2}.\n",
    "    The cap set will be constructed by adding vectors that do not create a line in order by priority.\n",
    "  \"\"\"\n",
    "  # Convert vector to a bitmask by inverting each 3-valued entry and joining them as a single binary number\n",
    "  bitmask = sum(2**i for i in range(n) if v[i] != 0)\n",
    "  # Calculate the number of 1s in the bitmask to get the pair count\n",
    "  pair_count = np.popcount(bitmask)\n",
    "  return pair_count / n\n",
    "\n",
    "\n",
    "def priority8(v: tuple[int, ...], n: int) -> float:\n",
    "  \"\"\"Returns the priority, as a floating point number, of the vector `v` of length `n`. The vector 'v' is a tuple of values in {0,1,2}.\n",
    "    The cap set will be constructed by adding vectors that do not create a line in order by priority.\n",
    "  \"\"\"\n",
    "  unique_pairs = len(set(list(itertools.combinations(v, 2))))\n",
    "  return unique_pairs / np.math.comb(n, 2)\n",
    "\n",
    "def priority9(v: tuple[int, ...], n: int) -> float:\n",
    "  \"\"\"Returns the priority, as a floating point number, of the vector `v` of length `n`. The vector 'v' is a tuple of values in {0,1,2}.\n",
    "    The cap set will be constructed by adding vectors that do not create a line in order by priority.\n",
    "  \"\"\"\n",
    "  unique_pairs = open('test')\n",
    "  return unique_pairs / np.math.comb(n, 2)\n",
    "\n",
    "def priority10(v: tuple[int, ...], n: int) -> float:\n",
    "  \"\"\"Returns the priority, as a floating point number, of the vector `v` of length `n`. The vector 'v' is a tuple of values in {0,1,2}.\n",
    "      The cap set will be constructed by adding vectors that do not create a line in order by priority.\n",
    "      This version checks for collinearity by calculating the determinant of the 3x3 matrix made from the vectors.\n",
    "  \"\"\"\n",
    "  # Calculate the dot product of each pair of vectors\n",
    "  dot_products = np.outer(v, v)[::-1].sum(axis=0)\n",
    "\n",
    "  # Add a small epsilon to avoid singularity\n",
    "  epsilon = 1e-8\n",
    "  determinant = np.linalg.det(np.vstack((v, dot_products, np.ones(n))).T + epsilon * np.eye(n + 1))\n",
    "\n",
    "  # Normalize the determinant to a range of [0, 1]\n",
    "  return 1.0 - np.abs(determinant) / (np.linalg.det(np.eye(n + 1)) ** 2)\n",
    "\n",
    "def priority11(v: tuple[int, ...], n: int) -> float:\n",
    "  \"\"\"Returns the priority, as a floating point number, of the vector `v` of length `n`. The vector 'v' is a tuple of values in {0,1,2}.\n",
    "      The cap set will be constructed by adding vectors that do not create a line in order by priority.\n",
    "      This version uses a simple heuristic to prioritize vectors with fewer lines.\n",
    "  \"\"\"\n",
    "  lines = set()\n",
    "  for i in range(n):\n",
    "    for j in range(i+1, n):\n",
    "      if np.sum(np.array(v[i:j+1]) == np.array(v[i:j+1]).sum(axis=0)) == 3:\n",
    "        lines.add((i, j))\n",
    "  if lines:\n",
    "    return len(lines)\n",
    "  else:\n",
    "    return 0.0"
   ]
  },
  {
   "cell_type": "code",
   "execution_count": 105,
   "metadata": {},
   "outputs": [],
   "source": [
    "# %timeit is_function_safe_string(inspect.getsource(priority1))\n",
    "# %timeit is_function_safe_string(inspect.getsource(priority2))\n",
    "# %timeit is_function_safe_string(inspect.getsource(priority3))\n",
    "# %timeit is_function_safe_string(inspect.getsource(priority4))\n",
    "# %timeit is_function_safe_string(inspect.getsource(priority5))\n",
    "# %timeit is_function_safe_string(inspect.getsource(priority6))\n",
    "# %timeit is_function_safe_string(inspect.getsource(priority7))\n",
    "# %timeit is_function_safe_string(inspect.getsource(priority8))\n",
    "# %timeit is_function_safe_string(inspect.getsource(priority9))\n",
    "# %timeit is_function_safe_string(inspect.getsource(priority10))\n",
    "# %timeit is_function_safe_string(inspect.getsource(priority11))"
   ]
  },
  {
   "cell_type": "code",
   "execution_count": 106,
   "metadata": {},
   "outputs": [
    {
     "data": {
      "text/plain": [
       "True"
      ]
     },
     "execution_count": 106,
     "metadata": {},
     "output_type": "execute_result"
    }
   ],
   "source": [
    "is_function_safe(priority9)"
   ]
  },
  {
   "cell_type": "code",
   "execution_count": 67,
   "metadata": {},
   "outputs": [
    {
     "name": "stdout",
     "output_type": "stream",
     "text": [
      "True\n",
      "True\n",
      "True\n",
      "True\n",
      "True\n",
      "True\n",
      "True\n",
      "True\n",
      "True\n",
      "True\n",
      "True\n"
     ]
    }
   ],
   "source": [
    "print(is_function_safe(priority1))\n",
    "print(is_function_safe(priority2))\n",
    "print(is_function_safe(priority3))\n",
    "print(is_function_safe(priority4))\n",
    "print(is_function_safe(priority5))\n",
    "print(is_function_safe(priority6))\n",
    "print(is_function_safe(priority7))\n",
    "print(is_function_safe(priority8))\n",
    "print(is_function_safe(priority9))\n",
    "print(is_function_safe(priority10))\n",
    "print(is_function_safe(priority11))"
   ]
  },
  {
   "cell_type": "code",
   "execution_count": 55,
   "metadata": {},
   "outputs": [],
   "source": [
    "def priority_v2(v: tuple[int, ...], n: int) -> float:\n",
    "  \"\"\"A slightly modified version of ⁠ priority_v1 ⁠. This version penalizes vectors with repeated components.\"\"\"\n",
    "  penalty = 0.1 * sum(1 for i in set(v) if v.count(i) > 1)\n",
    "  return penalty"
   ]
  },
  {
   "cell_type": "code",
   "execution_count": 56,
   "metadata": {},
   "outputs": [
    {
     "data": {
      "text/plain": [
       "True"
      ]
     },
     "execution_count": 56,
     "metadata": {},
     "output_type": "execute_result"
    }
   ],
   "source": [
    "is_function_safe(priority_v2)"
   ]
  },
  {
   "cell_type": "code",
   "execution_count": 57,
   "metadata": {},
   "outputs": [],
   "source": [
    "def priority_v3(p: int, n: int) -> int:\n",
    "  \"\"\"\n",
    "  Improved version of ⁠ priority_v0 ⁠.\n",
    "  Ensures the returned residue class is not a factor of any element in a prime factorization of n.\n",
    "  \"\"\"\n",
    "  potential_numbers = list(range(1, n))\n",
    "  i = 2\n",
    "  while i * i <= n:\n",
    "    if n % i:\n",
    "      i += 1\n",
    "    else:\n",
    "      while i in potential_numbers:\n",
    "        potential_numbers.remove(i)\n",
    "      n //= i\n",
    "  if n > 1 and n in potential_numbers:\n",
    "    potential_numbers.remove(n)\n",
    "  if potential_numbers:\n",
    "    return np.random.choice(potential_numbers)\n",
    "  else:\n",
    "    return np.random.choice(range(1, n))"
   ]
  },
  {
   "cell_type": "code",
   "execution_count": 58,
   "metadata": {},
   "outputs": [
    {
     "data": {
      "text/plain": [
       "True"
      ]
     },
     "execution_count": 58,
     "metadata": {},
     "output_type": "execute_result"
    }
   ],
   "source": [
    "is_function_safe(priority_v3)"
   ]
  },
  {
   "cell_type": "code",
   "execution_count": 59,
   "metadata": {},
   "outputs": [],
   "source": [
    "def priority_v2(p: int, n: int) -> int:\n",
    "  \"\"\"\n",
    "  Improved version of ⁠ priority_v0 ⁠.\n",
    "  Ensures the returned residue class does not divide any prime factor of n.\n",
    "  \"\"\"\n",
    "  assert n > 1, \"n should be greater than 1\"\n",
    "  potential_numbers = list(range(1, n))\n",
    "  for i in range(2, int(np.sqrt(n)) + 1):\n",
    "    if n % i == 0:\n",
    "      while i in potential_numbers:\n",
    "        potential_numbers.remove(i)\n",
    "      while n // i in potential_numbers:\n",
    "        potential_numbers.remove(n // i)\n",
    "  if potential_numbers:\n",
    "    return np.random.choice(potential_numbers)\n",
    "  else:\n",
    "    return np.random.choice(range(1, n))"
   ]
  },
  {
   "cell_type": "code",
   "execution_count": 60,
   "metadata": {},
   "outputs": [
    {
     "data": {
      "text/plain": [
       "True"
      ]
     },
     "execution_count": 60,
     "metadata": {},
     "output_type": "execute_result"
    }
   ],
   "source": [
    "is_function_safe(priority_v2)"
   ]
  },
  {
   "cell_type": "code",
   "execution_count": 61,
   "metadata": {},
   "outputs": [
    {
     "data": {
      "text/plain": [
       "True"
      ]
     },
     "execution_count": 61,
     "metadata": {},
     "output_type": "execute_result"
    }
   ],
   "source": [
    "def priority_v2(v: tuple[int, ...], n: int) -> float:\n",
    "  \"\"\"Improved version of `priority_v1`.\n",
    "  \"\"\"\n",
    "  if n < 3:\n",
    "    raise ValueError(\"Vector length must be at least 3.\")\n",
    "\n",
    "  unique_pairs = len(set(itertools.combinations(v, 2)))\n",
    "  max_pairs = (n * (n - 1) * (n - 2)) // 6\n",
    "\n",
    "  # Calculate the number of independent subspaces\n",
    "  # This is equivalent to the number of 2x2 sub-matrices with non-zero determinants\n",
    "  independent_subspaces = sum(np.linalg.det(v[i:i+2].reshape((2, 2))) != 0 for i in range(0, n-1, 2))\n",
    "\n",
    "  # Adjust the score to give more weight to higher unique pair counts and less dependency\n",
    "  unique_pairs_adj = unique_pairs ** (1 / (n - 1))\n",
    "  determinant_adj = 1 / (n - 1) ** (independent_subspaces)\n",
    "\n",
    "  return unique_pairs_adj * determinant_adj / max_pairs\n",
    "\n",
    "is_function_safe(priority_v2)"
   ]
  },
  {
   "cell_type": "code",
   "execution_count": 62,
   "metadata": {},
   "outputs": [
    {
     "data": {
      "text/plain": [
       "True"
      ]
     },
     "execution_count": 62,
     "metadata": {},
     "output_type": "execute_result"
    }
   ],
   "source": [
    "def priority_v3(v: tuple[int, ...], n: int) -> float:\n",
    "  \"\"\"Further improved version of `priority_v1`.\n",
    "  \"\"\"\n",
    "  unique_counts = np.bincount(v, minlength=3)\n",
    "  two_counts = np.bincount(unique_counts, minlength=2)\n",
    "  three_counts = np.bincount(unique_counts, minlength=3)\n",
    "\n",
    "  # Calculate the count of unique vectors and vectors with 2 or 3 occurrences\n",
    "  unique_counts_nonzero = unique_counts[unique_counts > 0].sum()\n",
    "  two_counts_nonzero = two_counts[two_counts > 0].sum()\n",
    "\n",
    "  # Calculate the number of vectors with 3 occurrences\n",
    "  three_counts_nonzero = three_counts[three_counts > 0].sum()\n",
    "\n",
    "  # Penalty for vectors with 3 occurrences\n",
    "  penalty = 3 * three_counts_nonzero\n",
    "\n",
    "  # Penalty for vectors with 2 occurrences, considering their multiplicity\n",
    "  two_counts_penalty = sum(i * (i - 1) for i in two_counts[two_counts > 0])\n",
    "\n",
    "  # Return the priority value\n",
    "  return np.prod(unique_counts) * (n - unique_counts_nonzero) * len(two_counts[two_counts > 0]) * np.exp(-penalty - 0.5 * two_counts_penalty)\n",
    "\n",
    "is_function_safe(priority_v3)"
   ]
  },
  {
   "cell_type": "code",
   "execution_count": 63,
   "metadata": {},
   "outputs": [
    {
     "data": {
      "text/plain": [
       "True"
      ]
     },
     "execution_count": 63,
     "metadata": {},
     "output_type": "execute_result"
    }
   ],
   "source": [
    "def priority_v2(v: tuple[int, ...], n: int) -> float:\n",
    "  \"\"\"Improved version of `priority_v1`.\n",
    "  \"\"\"\n",
    "  sums, freqs = set(), {}\n",
    "  for _ in itertools.combinations(v, 3):\n",
    "    sum_ = sum(x for x in _)\n",
    "    sums.add(sum_)\n",
    "    if sum_ not in freqs:\n",
    "      freqs[sum_] = 0\n",
    "    freqs[sum_] += 1\n",
    "  return len(sums) / (n * (n - 1) * (n - 2)) + len(freqs)\n",
    "\n",
    "is_function_safe(priority_v2)"
   ]
  },
  {
   "cell_type": "code",
   "execution_count": null,
   "metadata": {},
   "outputs": [],
   "source": []
  }
 ],
 "metadata": {
  "kernelspec": {
   "display_name": "jaxVenv",
   "language": "python",
   "name": "jaxvenv"
  },
  "language_info": {
   "codemirror_mode": {
    "name": "ipython",
    "version": 3
   },
   "file_extension": ".py",
   "mimetype": "text/x-python",
   "name": "python",
   "nbconvert_exporter": "python",
   "pygments_lexer": "ipython3",
   "version": "3.11.10"
  }
 },
 "nbformat": 4,
 "nbformat_minor": 2
}
