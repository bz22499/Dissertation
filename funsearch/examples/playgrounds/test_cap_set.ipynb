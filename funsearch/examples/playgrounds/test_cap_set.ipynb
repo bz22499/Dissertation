{
 "cells": [
  {
   "cell_type": "code",
   "execution_count": 2,
   "metadata": {},
   "outputs": [],
   "source": [
    "import numpy as np\n",
    "import itertools\n",
    "\n",
    "def evaluate(n: int) -> int:\n",
    "  \"\"\"Returns the size of an `n`-dimensional cap set.\"\"\"\n",
    "  capset = solve(n)\n",
    "  return len(capset)\n",
    "\n",
    "\n",
    "def solve(n: int) -> np.ndarray:\n",
    "  \"\"\"Returns a large cap set in `n` dimensions.\"\"\"\n",
    "  all_vectors = np.array(list(itertools.product((0, 1, 2), repeat=n)), dtype=np.int32)\n",
    "\n",
    "  # Powers in decreasing order for compatibility with `itertools.product`, so\n",
    "  # that the relationship `i = all_vectors[i] @ powers` holds for all `i`.\n",
    "  powers = 3 ** np.arange(n - 1, -1, -1)\n",
    "\n",
    "  # Precompute all priorities.\n",
    "  priorities = np.array([priority(tuple(vector), n) for vector in all_vectors])\n",
    "\n",
    "  # Build `capset` greedily, using priorities for prioritization.\n",
    "  capset = np.empty(shape=(0, n), dtype=np.int32)\n",
    "  while np.any(priorities != -np.inf):\n",
    "    # Add a vector with maximum priority to `capset`, and set priorities of\n",
    "    # invalidated vectors to `-inf`, so that they never get selected.\n",
    "    max_index = np.argmax(priorities)\n",
    "    vector = all_vectors[None, max_index]  # [1, n]\n",
    "    blocking = np.einsum('cn,n->c', (- capset - vector) % 3, powers)  # [C]\n",
    "    priorities[blocking] = -np.inf\n",
    "    priorities[max_index] = -np.inf\n",
    "    capset = np.concatenate([capset, vector], axis=0)\n",
    "\n",
    "  return capset\n",
    "\n",
    "\n",
    "\n",
    "def priority(el: tuple[int, ...], n: int) -> float:\n",
    "  \"\"\"Returns the priority with which we want to add `element` to the cap set.\n",
    "  el is a tuple of length n with values 0-2.\n",
    "  \"\"\"\n",
    "  \"\"\"Improved version of `priority_v1`.\"\"\"\n",
    "\n",
    "  # Count the number of 0s, 1s, and 2s in the cap set\n",
    "  counts = np.bincount(el, minlength=3)\n",
    "\n",
    "  # Calculate the priority as the size of the cap set divided by the sum of the\n",
    "  # squared differences between the counts, with a bonus for having more 1s and\n",
    "  # a penalty for having more 2s than 0s and for having duplicate elements.\n",
    "  return len(el) / (np.sum(np.square(np.diff(counts))) + np.square(counts[2] - counts[0]) + (len(el) - len(set(el)))) + counts[1] / n\n",
    "# #alternative priority function\n",
    "# def priority(k: int, n: int) -> float:\n",
    "#   \"\"\"Returns the priority with which we want to add `element` to the salem-spencer set.\n",
    "#   n is the number of possible integers, and k is the integer we want to determine priority for. \n",
    "#   \"\"\"\n",
    "#   \"\"\"Improved version of `priority_v0`.\"\"\"\n",
    "#   freq = sum(1 for i in range(1, n + 1) if i % k == 0)  # Frequency of k in [1, n]\n",
    "#   mid = n // 2 + 1  # Middle of the range [1, n]\n",
    "#   return freq / (mid - abs(k - mid))  # Prioritize closer to the middle and higher frequency"
   ]
  },
  {
   "cell_type": "code",
   "execution_count": 4,
   "metadata": {},
   "outputs": [
    {
     "name": "stdout",
     "output_type": "stream",
     "text": [
      "len capset: 1537\n"
     ]
    }
   ],
   "source": [
    "evaluate_capset=(solve(10))\n",
    "print(\"len capset:\",len(evaluate_capset))\n"
   ]
  },
  {
   "cell_type": "code",
   "execution_count": null,
   "metadata": {},
   "outputs": [],
   "source": []
  }
 ],
 "metadata": {
  "kernelspec": {
   "display_name": "JAX",
   "language": "python",
   "name": "python3"
  },
  "language_info": {
   "codemirror_mode": {
    "name": "ipython",
    "version": 3
   },
   "file_extension": ".py",
   "mimetype": "text/x-python",
   "name": "python",
   "nbconvert_exporter": "python",
   "pygments_lexer": "ipython3",
   "version": "3.11.9"
  }
 },
 "nbformat": 4,
 "nbformat_minor": 2
}

