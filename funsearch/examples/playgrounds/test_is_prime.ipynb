{
 "cells": [
  {
   "cell_type": "code",
   "execution_count": 3,
   "metadata": {},
   "outputs": [],
   "source": [
    "\"\"\"\n",
    "On every iteration, improve priority_v1 over the priority_vX methods from previous iterations.\n",
    "Make only small changes.\n",
    "Try to make the code short.\n",
    "\"\"\"\n",
    "import itertools\n",
    "import numpy as np\n",
    "import math\n",
    "\n",
    "def is_prime(n):\n",
    "    if n <= 1:\n",
    "        return False\n",
    "    for i in range(2, int(math.sqrt(n)) + 1):\n",
    "        if n % i == 0:\n",
    "            return False\n",
    "    return True\n",
    "\n",
    "\n",
    "def evaluate(n: int) -> float:\n",
    "  \"\"\"Returns the size of a certain `n`-dimensional cap set.\"\"\"\n",
    "  #capset = solve(n)\n",
    "  result = np.mean(np.equal(np.vectorize(is_prime)(np.arange(2, n)), np.vectorize(priority)(np.arange(2, n))))\n",
    "  return result\n",
    "\n",
    "\n",
    "def priority(m: int) -> bool:\n",
    "  \"\"\" Return whether or not m is an element of the set\n",
    "  \"\"\"\n",
    "  return False"
   ]
  },
  {
   "cell_type": "code",
   "execution_count": 11,
   "metadata": {},
   "outputs": [
    {
     "name": "stdout",
     "output_type": "stream",
     "text": [
      "len capset: 0.921501843003686\n"
     ]
    }
   ],
   "source": [
    "evaluate_capset=(evaluate(1000000))\n",
    "print(\"len capset:\",(evaluate_capset))\n"
   ]
  },
  {
   "cell_type": "code",
   "execution_count": 18,
   "metadata": {},
   "outputs": [
    {
     "name": "stdout",
     "output_type": "stream",
     "text": [
      "len capset: 9996\n"
     ]
    }
   ],
   "source": [
    "\"\"\"\n",
    "On every iteration, improve priority_vX+1 over the priority_vX methods from previous iterations.\n",
    "Make only small changes.\n",
    "Try to make the code short.\n",
    "\"\"\"\n",
    "import itertools\n",
    "\n",
    "import numpy as np\n",
    "\n",
    "\n",
    "import math\n",
    "\n",
    "def is_prime_plus_two(n):\n",
    "    if n <= 3:\n",
    "        return False\n",
    "    return is_prime(n)\n",
    "\n",
    "def is_prime(n):\n",
    "    if n <= 1:\n",
    "        return False\n",
    "    for i in range(2, int(math.sqrt(n)) + 1):\n",
    "        if n % i == 0:\n",
    "            return False\n",
    "    return True\n",
    "\n",
    "def evaluate(n: int) -> float:\n",
    "    \"\"\"Returns the size of a certain `n`-dimensional cap set.\"\"\"\n",
    "    #capset = solve(n)\n",
    "    result = np.sum(np.equal(np.vectorize(is_prime_plus_two)(np.arange(2, n)), np.vectorize(priority)(np.arange(2, n))))\n",
    "    return result\n",
    "\n",
    "def priority(m: int) -> bool:\n",
    "  \"\"\"Improved version of `priority_v1`. Checks if m is a prime number.\"\"\"\n",
    "\n",
    "  if m < 2:\n",
    "    return False\n",
    "  for i in range(2, int(np.sqrt(m)) + 1):\n",
    "    if m % i == 0:\n",
    "      return False\n",
    "  return True\n",
    "\n",
    "evaluate_capset=(evaluate(10000))\n",
    "print(\"len capset:\",(evaluate_capset))"
   ]
  },
  {
   "cell_type": "code",
   "execution_count": 15,
   "metadata": {},
   "outputs": [
    {
     "name": "stdout",
     "output_type": "stream",
     "text": [
      "False\n"
     ]
    }
   ],
   "source": [
    "import math\n",
    "def is_prime(n):\n",
    "    #n=n-2\n",
    "    if n <= 1:\n",
    "        return False\n",
    "    for i in range(2, int(math.sqrt(n)) + 1):\n",
    "        if n % i == 0:\n",
    "            return False\n",
    "    return True\n",
    "\n",
    "print(is_prime(33**2+1))"
   ]
  },
  {
   "cell_type": "code",
   "execution_count": null,
   "metadata": {},
   "outputs": [],
   "source": []
  }
 ],
 "metadata": {
  "kernelspec": {
   "display_name": "JAX",
   "language": "python",
   "name": "python3"
  },
  "language_info": {
   "codemirror_mode": {
    "name": "ipython",
    "version": 3
   },
   "file_extension": ".py",
   "mimetype": "text/x-python",
   "name": "python",
   "nbconvert_exporter": "python",
   "pygments_lexer": "ipython3",
   "version": "3.11.9"
  }
 },
 "nbformat": 4,
 "nbformat_minor": 2
}

