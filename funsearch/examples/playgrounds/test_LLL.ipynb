{
 "cells": [
  {
   "cell_type": "code",
   "execution_count": 54,
   "metadata": {},
   "outputs": [],
   "source": [
    "\n",
    "#### IN PROGRESS ####\n",
    "\"\"\"Finds the smallest basis vector of a lattice using the LLL algorithm. \n",
    "\n",
    "On every iteration, improve priority_v1 over the priority_vX methods from previous iterations.\n",
    "Make only small changes.\n",
    "Try to make the code short.\n",
    "\"\"\"\n",
    "import itertools\n",
    "\n",
    "import numpy as np\n",
    "\n",
    "\n",
    "\n",
    "def evaluate(n: int) -> int:\n",
    "  \"\"\"Returns the size of an `n`-dimensional cap set.\"\"\"\n",
    "  capset = solve(n)\n",
    "  return len(capset),capset\n",
    "\n",
    "\n",
    "def solve(n: int) -> np.ndarray:\n",
    "  \"\"\"Returns a large cap set in `n` dimensions.\"\"\"\n",
    "  #all_vectors = np.array(list(itertools.product((0, 1, 2), repeat=n)), dtype=np.int32)\n",
    "  all_integers = np.arange(n)\n",
    "\n",
    "  # Powers in decreasing order for compatibility with `itertools.product`, so\n",
    "  # that the relationship `i = all_vectors[i] @ powers` holds for all `i`.\n",
    "  #powers = 3 ** np.arange(n - 1, -1, -1)\n",
    "\n",
    "  # Precompute all priorities.\n",
    "  priorities = np.array([priority(int, n) for int in all_integers])\n",
    "\n",
    "  # Build `capset` greedily, using priorities for prioritization.\n",
    "  capset = np.empty(shape=(0,), dtype=np.int32)\n",
    "  while np.any(priorities != -np.inf):\n",
    "    # Add a vector with maximum priority to `capset`, and set priorities of\n",
    "    # invalidated vectors to `-inf`, so that they never get selected.\n",
    "    max_index = np.argmax(priorities)\n",
    "    pick_new_int = all_integers[None, max_index]  # [1, n]\n",
    "    #blocking = np.einsum('cn,n->c', (- capset - vector) % 3, powers)  # [C]\n",
    "    blocking = 2*pick_new_int - capset#(pick_new_int - capset) + pick_new_int\n",
    "    blocking2= 2*capset - pick_new_int#pick_new_int - (pick_new_int - capset)\n",
    "    blocking3 = (pick_new_int + capset) / 2\n",
    "    blocking3 = np.round(blocking3[np.isclose(blocking3, np.round(blocking3))]).astype(int)\n",
    "    blocking_all = np.concatenate([blocking, blocking2,blocking3], axis=0)\n",
    "    blocking_all = blocking_all[(blocking_all < n) & (blocking_all >= 0)]\n",
    "    priorities[blocking_all] = -np.inf\n",
    "    priorities[max_index] = -np.inf\n",
    "    capset = np.concatenate([capset, pick_new_int], axis=0)\n",
    "\n",
    "  return capset\n",
    "\n",
    "\n",
    "def priority(k: int, n: int) -> float:\n",
    "  \"\"\"Returns the priority with which we want to add `element` to the cap set.\n",
    "  el is a tuple of length n with values 0-2.\n",
    "  \"\"\"\n",
    "  return 0.0\n",
    "\n",
    "# #alternative priority function\n",
    "# def priority(k: int, n: int) -> float:\n",
    "#   \"\"\"Returns the priority with which we want to add `element` to the salem-spencer set.\n",
    "#   n is the number of possible integers, and k is the integer we want to determine priority for. \n",
    "#   \"\"\"\n",
    "#   \"\"\"Improved version of `priority_v0`.\"\"\"\n",
    "#   freq = sum(1 for i in range(1, n + 1) if i % k == 0)  # Frequency of k in [1, n]\n",
    "#   mid = n // 2 + 1  # Middle of the range [1, n]\n",
    "#   return freq / (mid - abs(k - mid))  # Prioritize closer to the middle and higher frequency"
   ]
  },
  {
   "cell_type": "code",
   "execution_count": 55,
   "metadata": {},
   "outputs": [
    {
     "name": "stdout",
     "output_type": "stream",
     "text": [
      "hi: (12, array([ 0,  1,  3,  4,  9, 10, 12, 13, 27, 28, 30, 31]))\n",
      "The sequence does not contain any arithmetic progression of length 3 or more.\n",
      "The sequence: [ 0  1  3  4  9 10 12 13 27 28 30 31]\n"
     ]
    }
   ],
   "source": [
    "evaluate_result=(evaluate(36))\n",
    "print(\"hi:\",evaluate_result)\n",
    "hi = np.sort(evaluate_result[1])\n",
    "\n",
    "\n",
    "#Check if hi contains any arithmetic progressions\n",
    "has,prog = has_arithmetic_progression(hi)\n",
    "if has:\n",
    "    print(\"The sequence contains an arithmetic progression of length 3 or more.\", prog)\n",
    "else:\n",
    "    print(\"The sequence does not contain any arithmetic progression of length 3 or more.\")\n",
    "\n",
    "print(\"The sequence:\", hi)"
   ]
  }
 ],
 "metadata": {
  "kernelspec": {
   "display_name": "JAX",
   "language": "python",
   "name": "python3"
  },
  "language_info": {
   "codemirror_mode": {
    "name": "ipython",
    "version": 3
   },
   "file_extension": ".py",
   "mimetype": "text/x-python",
   "name": "python",
   "nbconvert_exporter": "python",
   "pygments_lexer": "ipython3",
   "version": "3.11.9"
  }
 },
 "nbformat": 4,
 "nbformat_minor": 2
}

